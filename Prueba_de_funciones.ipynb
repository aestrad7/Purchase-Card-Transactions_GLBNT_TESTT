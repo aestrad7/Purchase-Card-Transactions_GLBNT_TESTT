{
 "cells": [
  {
   "cell_type": "code",
   "execution_count": 19,
   "id": "40b76110",
   "metadata": {},
   "outputs": [],
   "source": [
    "import pandas as pd\n",
    "import matplotlib.pyplot as plt\n",
    "import numpy as np"
   ]
  },
  {
   "cell_type": "code",
   "execution_count": 39,
   "id": "b5789546",
   "metadata": {},
   "outputs": [
    {
     "name": "stdout",
     "output_type": "stream",
     "text": [
      "     TRANS DATE TRANS VAT DESC  ORIGINAL GROSS AMT         MERCHANT NAME  \\\n",
      "5    2015-02-18             VR              117.00     fast key services   \n",
      "6    2015-02-23             VZ              150.00     gp update limited   \n",
      "7    2015-02-23             VZ              150.00     gp update limited   \n",
      "8    2015-02-23             VZ              150.00     gp update limited   \n",
      "9    2015-02-25             VZ               50.00  pg applications  crb   \n",
      "...         ...            ...                 ...                   ...   \n",
      "3954 2015-02-04             VR               40.05        tesco pfs 3953   \n",
      "3955 2015-02-19             VR               82.65        tesco pfs 3953   \n",
      "3956 2015-03-02             VR               83.59        tesco pfs 4203   \n",
      "3957 2015-02-17             VR               53.13          w m morrison   \n",
      "3958 2015-02-24             VR               78.50        tesco pfs 4203   \n",
      "\n",
      "           CARD NUMBER TRANS CAC CODE 1   TRANS CAC DESC 1 TRANS CAC CODE 2  \\\n",
      "5     ************7557             L100  Equip Operational            RVA0K   \n",
      "6     ************7557             L100  Equip Operational            RVA0K   \n",
      "7     ************7557             L100  Equip Operational            RVA0K   \n",
      "8     ************7557             L100  Equip Operational            RVA0K   \n",
      "9     ************7557             L100  Equip Operational            RVA0K   \n",
      "...                ...              ...                ...              ...   \n",
      "3954  ************8527             K020       Vehicle Fuel            RHBC7   \n",
      "3955  ************8527             K020       Vehicle Fuel            RHBC7   \n",
      "3956  ************6790             K020       Vehicle Fuel            RHEE7   \n",
      "3957  ************2926             K020       Vehicle Fuel            RHNCA   \n",
      "3958  ************6665             K020       Vehicle Fuel            RHEE7   \n",
      "\n",
      "                    TRANS CAC DESC 2 TRANS CAC CODE 3          Unnamed: 10  \n",
      "5                      Admin Support              A00  Adult & Communities  \n",
      "6                      Admin Support              A00  Adult & Communities  \n",
      "7                      Admin Support              A00  Adult & Communities  \n",
      "8                      Admin Support              A00  Adult & Communities  \n",
      "9                      Admin Support              A00  Adult & Communities  \n",
      "...                              ...              ...                  ...  \n",
      "3954  Erdington CBH03 Neigh C'takers              A00       Local Services  \n",
      "3955  Erdington CBH03 Neigh C'takers              A00       Local Services  \n",
      "3956   Ladywood CBH05 Neigh C'takers              A00       Local Services  \n",
      "3957                        Careline              A00       Local Services  \n",
      "3958   Ladywood CBH05 Neigh C'takers              A00       Local Services  \n",
      "\n",
      "[3954 rows x 11 columns]\n"
     ]
    }
   ],
   "source": [
    "#sacar constante de la direccion\n",
    "\n",
    "df = pd.read_excel (r'/home/grupodot/Documentos/Examen_globant/Purchase-Card-Transactions_GLBNT_TESTT/Data/publishspendpurchasecardsfebruary.xls')\n",
    "print (df)"
   ]
  },
  {
   "cell_type": "code",
   "execution_count": 32,
   "id": "b7e92153",
   "metadata": {},
   "outputs": [
    {
     "name": "stderr",
     "output_type": "stream",
     "text": [
      "/home/grupodot/.local/lib/python3.8/site-packages/pandas/core/arraylike.py:358: RuntimeWarning: invalid value encountered in log\n",
      "  result = getattr(ufunc, method)(*inputs, **kwargs)\n"
     ]
    },
    {
     "data": {
      "image/png": "[encoded data removed]",
      "text/plain": [
       "<Figure size 432x288 with 1 Axes>"
      ]
     },
     "metadata": {
      "needs_background": "light"
     },
     "output_type": "display_data"
    }
   ],
   "source": [
    "plt.scatter(range(len(df)), np.log(df[\"ORIGINAL GROSS AMT\"]))\n",
    "plt.grid()"
   ]
  },
  {
   "cell_type": "code",
   "execution_count": 33,
   "id": "0ae5f2bd",
   "metadata": {},
   "outputs": [
    {
     "name": "stderr",
     "output_type": "stream",
     "text": [
      "/usr/lib/python3/dist-packages/numpy/lib/histograms.py:839: RuntimeWarning: invalid value encountered in greater_equal\n",
      "  keep = (tmp_a >= first_edge)\n",
      "/usr/lib/python3/dist-packages/numpy/lib/histograms.py:840: RuntimeWarning: invalid value encountered in less_equal\n",
      "  keep &= (tmp_a <= last_edge)\n"
     ]
    },
    {
     "data": {
      "image/png": "[encoded data removed]",
      "text/plain": [
       "<Figure size 432x288 with 1 Axes>"
      ]
     },
     "metadata": {
      "needs_background": "light"
     },
     "output_type": "display_data"
    }
   ],
   "source": [
    "plt.hist(np.log(df[\"ORIGINAL GROSS AMT\"]))\n",
    "plt.grid()"
   ]
  },
  {
   "cell_type": "code",
   "execution_count": null,
   "id": "99362576",
   "metadata": {},
   "outputs": [],
   "source": []
  },
  {
   "cell_type": "code",
   "execution_count": null,
   "id": "b05a005e",
   "metadata": {},
   "outputs": [],
   "source": []
  },
  {
   "cell_type": "code",
   "execution_count": null,
   "id": "9b44c1a4",
   "metadata": {},
   "outputs": [],
   "source": []
  },
  {
   "cell_type": "code",
   "execution_count": null,
   "id": "dd791bf7",
   "metadata": {},
   "outputs": [],
   "source": []
  },
  {
   "cell_type": "code",
   "execution_count": null,
   "id": "018395bc",
   "metadata": {},
   "outputs": [],
   "source": []
  },
  {
   "cell_type": "code",
   "execution_count": null,
   "id": "f2d6cf68",
   "metadata": {},
   "outputs": [],
   "source": []
  }
 ],
 "metadata": {
  "kernelspec": {
   "display_name": "Python 3",
   "language": "python",
   "name": "python3"
  },
  "language_info": {
   "codemirror_mode": {
    "name": "ipython",
    "version": 3
   },
   "file_extension": ".py",
   "mimetype": "text/x-python",
   "name": "python",
   "nbconvert_exporter": "python",
   "pygments_lexer": "ipython3",
   "version": "3.8.10"
  }
 },
 "nbformat": 4,
 "nbformat_minor": 5
}
